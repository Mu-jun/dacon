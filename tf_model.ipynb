{
 "cells": [
  {
   "cell_type": "code",
   "execution_count": null,
   "id": "4642be84",
   "metadata": {},
   "outputs": [],
   "source": [
    "import os\n",
    "import shutil\n",
    "from glob import glob\n",
    "\n",
    "import random\n",
    "import pandas as pd\n",
    "\n",
    "import tensorflow as tf\n",
    "from tensorflow import keras\n",
    "\n",
    "import matplotlib.pyplot as plt"
   ]
  },
  {
   "cell_type": "markdown",
   "id": "af512893",
   "metadata": {},
   "source": [
    "# tf input pipline"
   ]
  },
  {
   "cell_type": "code",
   "execution_count": null,
   "id": "2019b503",
   "metadata": {},
   "outputs": [],
   "source": [
    "train_path = \"./dataset/main_directory/\"\n",
    "test_path = \"./dataset/test/\"\n",
    "\n",
    "INPUT_SHAPE = (224,224,3)\n",
    "BATCH_SIZE = 32\n",
    "AUTOTUNE = tf.data.experimental.AUTOTUNE"
   ]
  },
  {
   "cell_type": "code",
   "execution_count": null,
   "id": "0779fdf8",
   "metadata": {},
   "outputs": [],
   "source": [
    "def parse_image(filename):\n",
    "    img = tf.io.read_file(filename)\n",
    "    img = tf.image.decode_png(img, channels=3)\n",
    "    img = tf.image.resize(img,INPUT_SHAPE[:2])\n",
    "    return img\n",
    "\n",
    "def configure_for_performance(ds):\n",
    "    ds = ds.shuffle(buffer_size=1000)\n",
    "    ds = ds.batch(BATCH_SIZE)\n",
    "    ds = ds.repeat()\n",
    "    ds = ds.prefetch(buffer_size=AUTOTUNE)\n",
    "    return ds"
   ]
  },
  {
   "cell_type": "code",
   "execution_count": null,
   "id": "de6fc6f6",
   "metadata": {},
   "outputs": [],
   "source": [
    "classes = os.listdir(train_path)\n",
    "num_classes = len(classes)\n",
    "filenames = glob(train_path+'*/*')\n",
    "num_images = len(filenames)\n",
    "print(filenames[0].split(os.sep)[-2])\n",
    "random.shuffle(filenames)\n",
    "labels = [classes.index(name.split(os.sep)[-2]) for name in filenames]\n",
    "\n",
    "filenames_ds = tf.data.Dataset.from_tensor_slices(filenames)\n",
    "images_ds = filenames_ds.map(\n",
    "    parse_image,\n",
    "    num_parallel_calls=AUTOTUNE\n",
    ")\n",
    "labels_ds = tf.data.Dataset.from_tensor_slices(labels)\n",
    "\n",
    "ds = tf.data.Dataset.zip((images_ds, labels_ds))\n",
    "ds = configure_for_performance(ds)"
   ]
  },
  {
   "cell_type": "code",
   "execution_count": null,
   "id": "15b0bdec",
   "metadata": {},
   "outputs": [],
   "source": [
    "for img, label in ds.take(1):\n",
    "    print(img.numpy()[0].shape)\n",
    "    img = img.numpy()[0].astype(np.uint8)\n",
    "    print(img.min(), img.max())\n",
    "    plt.imshow(img), plt.axis('off')\n",
    "    plt.show()\n",
    "    \n",
    "    print(label.numpy()[0])\n",
    "    idx = (label.numpy()[0])\n",
    "    print(classes[idx])"
   ]
  },
  {
   "cell_type": "markdown",
   "id": "60b12369",
   "metadata": {},
   "source": [
    "# data augmentation layer\n",
    "## evaluate() 또는 predict() 호출 시에는 자동으로 비활성화 된다."
   ]
  },
  {
   "cell_type": "code",
   "execution_count": null,
   "id": "2ee8c6b4",
   "metadata": {},
   "outputs": [],
   "source": [
    "data_augmentation = keras.Sequential([\n",
    "    keras.layers.experimental.preprocessing.RandomFlip(\"horizontal_and_vertical\"),\n",
    "    keras.layers.experimental.preprocessing.RandomRotation(0.2),\n",
    "    keras.layers.experimental.preprocessing.RandomTranslation(0.1,0.1),\n",
    "])"
   ]
  },
  {
   "cell_type": "markdown",
   "id": "bdc848d0",
   "metadata": {},
   "source": [
    "# model"
   ]
  },
  {
   "cell_type": "code",
   "execution_count": null,
   "id": "103a8d62",
   "metadata": {},
   "outputs": [],
   "source": [
    "transfer_model = keras.applications.VGG16(\n",
    "    input_shape= INPUT_SHAPE,\n",
    "    include_top= False,\n",
    "    weights= 'imagenet',\n",
    ")\n",
    "transfer_model.trainable = False\n",
    "transfer_model.summary()"
   ]
  },
  {
   "cell_type": "code",
   "execution_count": null,
   "id": "3ac2f51f",
   "metadata": {
    "scrolled": true
   },
   "outputs": [],
   "source": [
    "finetune_model = keras.Sequential([\n",
    "    keras.Input(shape=INPUT_SHAPE),\n",
    "    data_augmentation,\n",
    "    keras.layers.experimental.preprocessing.Rescaling(1./255),\n",
    "    transfer_model,\n",
    "    keras.layers.Flatten(),\n",
    "    keras.layers.Dense(num_classes, activation='softmax')\n",
    "],\"VGG16\")\n",
    "finetune_model.summary()\n",
    "\n",
    "finetune_model.compile(loss='sparse_categorical_crossentropy',\n",
    "                      optimizer=keras.optimizers.Adam(learning_rate=0.0002),\n",
    "                       metrics='accuracy')                    "
   ]
  },
  {
   "cell_type": "code",
   "execution_count": null,
   "id": "a25ae08d",
   "metadata": {},
   "outputs": [],
   "source": [
    "step = num_images//BATCH_SIZE\n",
    "tf.random.set_seed(3)\n",
    "\n",
    "hist = finetune_model.fit(\n",
    "    ds, epochs=2, steps_per_epoch=step\n",
    ")"
   ]
  },
  {
   "cell_type": "code",
   "execution_count": null,
   "id": "15d5fbc2",
   "metadata": {},
   "outputs": [],
   "source": [
    "for i,j in ds.take(2):\n",
    "    print(j.numpy())"
   ]
  }
 ],
 "metadata": {
  "kernelspec": {
   "display_name": "base",
   "language": "python",
   "name": "base"
  },
  "language_info": {
   "codemirror_mode": {
    "name": "ipython",
    "version": 3
   },
   "file_extension": ".py",
   "mimetype": "text/x-python",
   "name": "python",
   "nbconvert_exporter": "python",
   "pygments_lexer": "ipython3",
   "version": "3.9.7"
  }
 },
 "nbformat": 4,
 "nbformat_minor": 5
}
