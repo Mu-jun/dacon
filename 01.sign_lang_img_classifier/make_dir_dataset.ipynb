{
 "cells": [
  {
   "cell_type": "code",
   "execution_count": null,
   "metadata": {},
   "outputs": [],
   "source": [
    "import pandas as pd\n",
    "import os\n",
    "import shutil"
   ]
  },
  {
   "cell_type": "code",
   "execution_count": null,
   "metadata": {},
   "outputs": [],
   "source": [
    "train_df = pd.read_csv('./dataset/train.csv')\n",
    "train_df.head()"
   ]
  },
  {
   "cell_type": "code",
   "execution_count": null,
   "metadata": {},
   "outputs": [],
   "source": [
    "train = train_df[\"file_name\"].to_numpy()\n",
    "target = train_df[\"label\"].to_numpy()"
   ]
  },
  {
   "cell_type": "code",
   "execution_count": null,
   "metadata": {},
   "outputs": [],
   "source": [
    "train_path = \"./dataset/main_directory/\"\n",
    "test_path = \"./dataset/test/\"\n",
    "\n",
    "if not os.path.exists(train_path):\n",
    "        os.mkdir(train_path)\n",
    "\n",
    "for label in train_df[\"label\"].unique():\n",
    "    if not os.path.exists(train_path+label):\n",
    "        os.mkdir(train_path+label)"
   ]
  },
  {
   "cell_type": "code",
   "execution_count": null,
   "metadata": {},
   "outputs": [],
   "source": [
    "for file, label in zip(train,target):\n",
    "    src = \"./dataset/train/\"+file\n",
    "    new_filename = label + '_train_' + file\n",
    "    dst = os.path.join(train_path,label,new_filename)\n",
    "    shutil.copy(src, dst)"
   ]
  }
 ],
 "metadata": {
  "interpreter": {
   "hash": "d102a36440b3fa6f6e9070927b3490df4f74782c023ea09ceab8356b50f0a087"
  },
  "kernelspec": {
   "display_name": "Python 3.9.7 ('base')",
   "language": "python",
   "name": "python3"
  },
  "language_info": {
   "name": "python",
   "version": "3.9.7"
  },
  "orig_nbformat": 4
 },
 "nbformat": 4,
 "nbformat_minor": 2
}
