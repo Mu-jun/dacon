{
 "cells": [
  {
   "cell_type": "code",
   "execution_count": 52,
   "metadata": {},
   "outputs": [],
   "source": [
    "import tensorflow as tf\n",
    "from tensorflow import keras\n",
    "from tensorflow.python.client import device_lib\n",
    "\n",
    "import pandas as pd\n",
    "import numpy as np\n",
    "import matplotlib.pyplot as plt\n",
    "\n",
    "import os\n",
    "import sys\n",
    "from pathlib import Path\n",
    "\n",
    "import itertools as it\n",
    "import functools as fn\n",
    "from tqdm import tqdm\n",
    "\n",
    "import re\n",
    "import config as cfg"
   ]
  },
  {
   "cell_type": "code",
   "execution_count": 53,
   "metadata": {},
   "outputs": [
    {
     "name": "stdout",
     "output_type": "stream",
     "text": [
      "[PhysicalDevice(name='/physical_device:GPU:0', device_type='GPU')]\n"
     ]
    }
   ],
   "source": [
    "gpus = tf.config.list_physical_devices('GPU')\n",
    "print(gpus)\n",
    "if gpus:\n",
    "  try:\n",
    "    # 메모리 증가 방식으로 변경  \n",
    "    tf.config.experimental.set_virtual_device_configuration(\n",
    "        gpus[0],\n",
    "        [tf.config.experimental.VirtualDeviceConfiguration(memory_limit=4000)])\n",
    "  except RuntimeError as e:\n",
    "    # 프로그램 시작시에 메모리 증가가 설정되어야만 합니다\n",
    "    print(e)\n",
    "  tf.config.experimental.get_memory_info('GPU:0')\n"
   ]
  },
  {
   "cell_type": "code",
   "execution_count": 54,
   "metadata": {},
   "outputs": [
    {
     "name": "stdout",
     "output_type": "stream",
     "text": [
      "[name: \"/device:CPU:0\"\n",
      "device_type: \"CPU\"\n",
      "memory_limit: 268435456\n",
      "locality {\n",
      "}\n",
      "incarnation: 17058056597220578996\n",
      "xla_global_id: -1\n",
      ", name: \"/device:GPU:0\"\n",
      "device_type: \"GPU\"\n",
      "memory_limit: 4194304000\n",
      "locality {\n",
      "  bus_id: 1\n",
      "  links {\n",
      "  }\n",
      "}\n",
      "incarnation: 10419822531697493751\n",
      "physical_device_desc: \"device: 0, name: NVIDIA GeForce GTX 1650 with Max-Q Design, pci bus id: 0000:01:00.0, compute capability: 7.5\"\n",
      "xla_global_id: 416903419\n",
      "]\n"
     ]
    }
   ],
   "source": [
    "print(device_lib.list_local_devices())"
   ]
  },
  {
   "cell_type": "code",
   "execution_count": 55,
   "metadata": {},
   "outputs": [
    {
     "data": {
      "text/html": [
       "<div>\n",
       "<style scoped>\n",
       "    .dataframe tbody tr th:only-of-type {\n",
       "        vertical-align: middle;\n",
       "    }\n",
       "\n",
       "    .dataframe tbody tr th {\n",
       "        vertical-align: top;\n",
       "    }\n",
       "\n",
       "    .dataframe thead th {\n",
       "        text-align: right;\n",
       "    }\n",
       "</style>\n",
       "<table border=\"1\" class=\"dataframe\">\n",
       "  <thead>\n",
       "    <tr style=\"text-align: right;\">\n",
       "      <th></th>\n",
       "      <th>code1</th>\n",
       "      <th>code2</th>\n",
       "      <th>similar</th>\n",
       "    </tr>\n",
       "  </thead>\n",
       "  <tbody>\n",
       "    <tr>\n",
       "      <th>0</th>\n",
       "      <td>./dataset/code/problem028/problem028_112.py</td>\n",
       "      <td>./dataset/code/problem085/problem085_1.py</td>\n",
       "      <td>0</td>\n",
       "    </tr>\n",
       "    <tr>\n",
       "      <th>1</th>\n",
       "      <td>./dataset/code/problem246/problem246_49.py</td>\n",
       "      <td>./dataset/code/problem246/problem246_125.py</td>\n",
       "      <td>1</td>\n",
       "    </tr>\n",
       "    <tr>\n",
       "      <th>2</th>\n",
       "      <td>./dataset/code/problem097/problem097_90.py</td>\n",
       "      <td>./dataset/code/problem204/problem204_26.py</td>\n",
       "      <td>0</td>\n",
       "    </tr>\n",
       "    <tr>\n",
       "      <th>3</th>\n",
       "      <td>./dataset/code/problem071/problem071_13.py</td>\n",
       "      <td>./dataset/code/problem071/problem071_94.py</td>\n",
       "      <td>1</td>\n",
       "    </tr>\n",
       "    <tr>\n",
       "      <th>4</th>\n",
       "      <td>./dataset/code/problem281/problem281_139.py</td>\n",
       "      <td>./dataset/code/problem300/problem300_109.py</td>\n",
       "      <td>0</td>\n",
       "    </tr>\n",
       "  </tbody>\n",
       "</table>\n",
       "</div>"
      ],
      "text/plain": [
       "                                         code1  \\\n",
       "0  ./dataset/code/problem028/problem028_112.py   \n",
       "1   ./dataset/code/problem246/problem246_49.py   \n",
       "2   ./dataset/code/problem097/problem097_90.py   \n",
       "3   ./dataset/code/problem071/problem071_13.py   \n",
       "4  ./dataset/code/problem281/problem281_139.py   \n",
       "\n",
       "                                         code2  similar  \n",
       "0    ./dataset/code/problem085/problem085_1.py        0  \n",
       "1  ./dataset/code/problem246/problem246_125.py        1  \n",
       "2   ./dataset/code/problem204/problem204_26.py        0  \n",
       "3   ./dataset/code/problem071/problem071_94.py        1  \n",
       "4  ./dataset/code/problem300/problem300_109.py        0  "
      ]
     },
     "execution_count": 55,
     "metadata": {},
     "output_type": "execute_result"
    }
   ],
   "source": [
    "data_path = Path('./dataset/data_df.csv')\n",
    "data_df = pd.read_csv(data_path)\n",
    "data_df.head()"
   ]
  },
  {
   "cell_type": "markdown",
   "metadata": {},
   "source": [
    "# 전처리"
   ]
  },
  {
   "cell_type": "code",
   "execution_count": 56,
   "metadata": {},
   "outputs": [],
   "source": [
    "def preprocessing(code):\n",
    "    code = re.sub(r'    ',r'\\t ',code)\n",
    "    code = re.sub(r\"#.*\\n\",'\\n',code) # 주석제거\n",
    "    code = re.sub(r\"import.*\\n\",'',code) # 모듈 참고 안함\n",
    "    code = re.sub(r'\"',r\"'\",code)\n",
    "    code = re.sub(r\"([\\n:(){}\\[\\]\\*\\/\\%\\+\\-\\,\\=.'])\",r' \\1 ',code)\n",
    "    code = re.sub(r'\\n',r\"<n>\",code)\n",
    "    code = re.sub(r'\\t',r\"<t>\",code)\n",
    "    return code.split()"
   ]
  },
  {
   "cell_type": "code",
   "execution_count": 57,
   "metadata": {},
   "outputs": [],
   "source": [
    "# # 전처리 테스트\n",
    "# with open(data_df.code1[0],'r') as f:\n",
    "#     code1 = f.read()\n",
    "# with open(data_df.code2[0],'r') as f:\n",
    "#     code2 = f.read()\n",
    "    \n",
    "# code_docs = [code1,code2]\n",
    "\n",
    "# for i in range(len(code_docs)):\n",
    "#     code_docs[i] = preprocessing(code_docs[i])\n",
    "\n",
    "# print(f'{len(code_docs)=}')    \n",
    "# print(code_docs)"
   ]
  },
  {
   "cell_type": "markdown",
   "metadata": {},
   "source": [
    "# 단어장 생성"
   ]
  },
  {
   "cell_type": "code",
   "execution_count": 58,
   "metadata": {},
   "outputs": [
    {
     "data": {
      "text/plain": [
       "45101"
      ]
     },
     "execution_count": 58,
     "metadata": {},
     "output_type": "execute_result"
    }
   ],
   "source": [
    "code_path = './dataset/code/'\n",
    "classes = os.listdir(code_path)\n",
    "source_list = []\n",
    "for label in classes:\n",
    "    filenames = os.listdir(code_path+label)\n",
    "    for file in filenames:\n",
    "        source_list.append(code_path+label+'/'+file)\n",
    "\n",
    "# source_list[145:155]\n",
    "len(source_list)"
   ]
  },
  {
   "cell_type": "code",
   "execution_count": 59,
   "metadata": {},
   "outputs": [
    {
     "name": "stdout",
     "output_type": "stream",
     "text": [
      "./dataset/code/problem004/problem004_124.py\n"
     ]
    }
   ],
   "source": [
    "print(source_list[478])"
   ]
  },
  {
   "cell_type": "code",
   "execution_count": 60,
   "metadata": {},
   "outputs": [
    {
     "name": "stderr",
     "output_type": "stream",
     "text": [
      "100%|██████████| 45101/45101 [00:19<00:00, 2345.91it/s]\n"
     ]
    },
    {
     "data": {
      "text/plain": [
       "45101"
      ]
     },
     "execution_count": 60,
     "metadata": {},
     "output_type": "execute_result"
    }
   ],
   "source": [
    "code_docs = []\n",
    "for src_path in tqdm(source_list):\n",
    "    with open(src_path,'r',encoding='utf-8') as f:\n",
    "        code_docs.append(f.read())\n",
    "len(code_docs)"
   ]
  },
  {
   "cell_type": "code",
   "execution_count": 61,
   "metadata": {},
   "outputs": [
    {
     "name": "stdout",
     "output_type": "stream",
     "text": [
      "max_len=426657\n",
      "./dataset/code/problem094/problem094_70.py\n"
     ]
    }
   ],
   "source": [
    "lens = [len(code_doc) for code_doc in code_docs]\n",
    "max_len = max(lens)\n",
    "print(f'{max_len=}')\n",
    "max_len_id = np.argmax(lens)\n",
    "print(source_list[max_len_id])\n",
    "# print(code_docs[max_len_id])"
   ]
  },
  {
   "cell_type": "code",
   "execution_count": 62,
   "metadata": {},
   "outputs": [
    {
     "name": "stdout",
     "output_type": "stream",
     "text": [
      "문장 평균 길이 : 392.9198909115097\n",
      "문장 최대 길이 : 426657\n",
      "98% 문장 포함 길이 : 4510.023906204881\n"
     ]
    }
   ],
   "source": [
    "print(\"문장 평균 길이 :\",np.mean(lens))\n",
    "print(\"문장 최대 길이 :\",max(lens))\n",
    "print(\"98% 문장 포함 길이 :\", np.mean(lens) + 2*np.std(lens))"
   ]
  },
  {
   "cell_type": "code",
   "execution_count": 63,
   "metadata": {},
   "outputs": [
    {
     "name": "stdout",
     "output_type": "stream",
     "text": [
      "code_docs.index(max_id)\n",
      "8366\n",
      "\n",
      "source_list[code_docs.index(max_id)]\n",
      "./dataset/code/problem056/problem056_51.py\n",
      "\n"
     ]
    }
   ],
   "source": [
    "max_code = max(code_docs)\n",
    "print(\"code_docs.index(max_id)\")\n",
    "print(code_docs.index(max_code))\n",
    "print()\n",
    "print(\"source_list[code_docs.index(max_id)]\")\n",
    "print(source_list[code_docs.index(max_code)])\n",
    "print()\n",
    "# print(max_code)"
   ]
  },
  {
   "cell_type": "code",
   "execution_count": 64,
   "metadata": {},
   "outputs": [
    {
     "name": "stderr",
     "output_type": "stream",
     "text": [
      "100%|██████████| 45101/45101 [00:09<00:00, 5005.66it/s]\n"
     ]
    }
   ],
   "source": [
    "from collections import Counter\n",
    "import config as cfg\n",
    "\n",
    "for i in tqdm(range(len(code_docs))):\n",
    "    code_docs[i] = preprocessing(code_docs[i])"
   ]
  },
  {
   "cell_type": "code",
   "execution_count": 65,
   "metadata": {},
   "outputs": [
    {
     "name": "stdout",
     "output_type": "stream",
     "text": [
      "max_len=2307\n",
      "./dataset/code/problem295/problem295_121.py\n"
     ]
    }
   ],
   "source": [
    "lens = [len(code_doc) for code_doc in code_docs]\n",
    "max_len = max(lens)\n",
    "print(f'{max_len=}')\n",
    "max_len_id = np.argmax([len(code_doc) for code_doc in code_docs])\n",
    "print(source_list[max_len_id])\n",
    "# print(code_docs[max_len_id])"
   ]
  },
  {
   "cell_type": "code",
   "execution_count": 66,
   "metadata": {},
   "outputs": [
    {
     "name": "stdout",
     "output_type": "stream",
     "text": [
      "문장 평균 길이 : 163.1383783064677\n",
      "문장 최대 길이 : 2307\n",
      "98% 문장 포함 길이 : 463.27556804641875\n"
     ]
    }
   ],
   "source": [
    "print(\"문장 평균 길이 :\",np.mean(lens))\n",
    "print(\"문장 최대 길이 :\",max(lens))\n",
    "print(\"98% 문장 포함 길이 :\", np.mean(lens) + 2*np.std(lens))"
   ]
  },
  {
   "cell_type": "code",
   "execution_count": 67,
   "metadata": {},
   "outputs": [
    {
     "name": "stdout",
     "output_type": "stream",
     "text": [
      "code_docs.index(max_id)\n",
      "8366\n",
      "\n",
      "source_list[code_docs.index(max_id)]\n",
      "./dataset/code/problem056/problem056_51.py\n",
      "\n"
     ]
    }
   ],
   "source": [
    "max_code = max(code_docs)\n",
    "print(\"code_docs.index(max_id)\")\n",
    "print(code_docs.index(max_code))\n",
    "print()\n",
    "print(\"source_list[code_docs.index(max_id)]\")\n",
    "print(source_list[code_docs.index(max_code)])\n",
    "print()\n",
    "# print(max_code)"
   ]
  },
  {
   "cell_type": "code",
   "execution_count": 68,
   "metadata": {},
   "outputs": [
    {
     "name": "stderr",
     "output_type": "stream",
     "text": [
      "100%|██████████| 45101/45101 [01:47<00:00, 421.27it/s] \n"
     ]
    }
   ],
   "source": [
    "counter = Counter()\n",
    "for code_doc in tqdm(code_docs):\n",
    "    # code_doc = np.concatenate(code_doc).tolist() # 메모리 부족....\n",
    "    counter += Counter(code_doc)\n",
    "most_counter = counter.most_common(cfg.vocab_size-2)\n",
    "vocab = ['<pad>','<unk>']+[key for key, _ in most_counter]\n",
    "# print(vocab)\n",
    "word_to_index = {word:index for index, word in enumerate(vocab)}"
   ]
  },
  {
   "cell_type": "code",
   "execution_count": 69,
   "metadata": {},
   "outputs": [
    {
     "name": "stdout",
     "output_type": "stream",
     "text": [
      "10000\n"
     ]
    }
   ],
   "source": [
    "print(len(word_to_index))"
   ]
  },
  {
   "cell_type": "markdown",
   "metadata": {},
   "source": [
    "# input pipe line"
   ]
  },
  {
   "cell_type": "code",
   "execution_count": 70,
   "metadata": {},
   "outputs": [],
   "source": [
    "del code_docs\n",
    "del source_list\n",
    "del most_counter\n",
    "del counter"
   ]
  },
  {
   "cell_type": "code",
   "execution_count": 71,
   "metadata": {},
   "outputs": [],
   "source": [
    "AUTOTUNE = tf.data.experimental.AUTOTUNE\n",
    "BATCH_SIZE = cfg.batch_size"
   ]
  },
  {
   "cell_type": "code",
   "execution_count": 123,
   "metadata": {},
   "outputs": [],
   "source": [
    "def tokenize(path):\n",
    "    with open(path,'r',encoding='utf8') as f:\n",
    "        code = f.read()\n",
    "    words = preprocessing(code)\n",
    "    code_sequence = [word_to_index[word] if word in word_to_index else word_to_index['<unk>'] for word in words]\n",
    "    return code_sequence\n",
    "\n",
    "def make_tensor(paths):\n",
    "    code_sequences = []\n",
    "    for path in tqdm(paths):\n",
    "        code_sequences.append(tokenize(path))\n",
    "    pad_sequences = keras.preprocessing.sequence.pad_sequences(code_sequences,maxlen=cfg.max_len,truncating='pre')\n",
    "    return pad_sequences\n",
    "    \n",
    "def make_dataset(code1_paths,code2_paths,similar):\n",
    "    \n",
    "    code1_tensor = make_tensor(code1_paths)\n",
    "    print(f\"{code1_tensor.shape=}\")\n",
    "    code2_tensor = make_tensor(code2_paths)\n",
    "    print(f\"{code2_tensor.shape=}\")\n",
    "    \n",
    "    ds = tf.data.Dataset.from_tensor_slices((\n",
    "        {\n",
    "            \"code1\":code1_tensor, \"code2\":code2_tensor\n",
    "        },\n",
    "        {\n",
    "            \"outputs\":similar\n",
    "        }\n",
    "    ))\n",
    "    \n",
    "    # code1_files_ds = tf.data.Dataset.from_tensor_slices(code1_paths)\n",
    "    # code2_files_ds = tf.data.Dataset.from_tensor_slices(code2_paths)\n",
    "    # similar_ds = tf.data.Dataset.from_tensor_slices(similar)\n",
    "    \n",
    "    # code1_ds = code1_files_ds.map(\n",
    "    #     make_tensor,\n",
    "    #     num_parallel_calls=AUTOTUNE\n",
    "    # )\n",
    "    # code2_ds = code2_files_ds.map(\n",
    "    #     make_tensor,\n",
    "    #     num_parallel_calls=AUTOTUNE\n",
    "    # )\n",
    "    # code_ds = tf.data.Dataset.zip((code1_ds,code2_ds))\n",
    "    # ds = tf.data.Dataset.zip((code_ds,similar_ds))\n",
    "    \n",
    "    return ds"
   ]
  },
  {
   "cell_type": "code",
   "execution_count": 124,
   "metadata": {},
   "outputs": [
    {
     "name": "stdout",
     "output_type": "stream",
     "text": [
      "<class 'tensorflow.python.framework.ops.EagerTensor'>\n",
      "if __name__ == \"__main__\":\n",
      "    n, m = map(int, input().split())\n",
      "    c = list(map(int, input().split()))\n",
      "    c = sorted(c)\n",
      "\n",
      "    dp = [[0] * (n + 1)] * m\n",
      "\n",
      "    for i in range(n + 1):\n",
      "        dp[0][i] = i\n",
      "    \n",
      "    for i in range(1, m):\n",
      "        for j in range(n + 1):\n",
      "            dp[i][j] = dp[i - 1][j]\n",
      "            if j - c[i] >= 0:\n",
      "                dp[i][j] = min(dp[i][j], dp[i][j - c[i]] + 1)\n",
      "    print(dp[m-1][n])\n",
      "        \n",
      "\n"
     ]
    }
   ],
   "source": [
    "code1_files_ds = tf.data.Dataset.from_tensor_slices(data_df['code1'])\n",
    "for i in code1_files_ds.take(1):\n",
    "    code1 = tf.io.read_file(i)\n",
    "    print(type(code1))\n",
    "    print(code1.numpy().decode('utf8'))"
   ]
  },
  {
   "cell_type": "code",
   "execution_count": 125,
   "metadata": {},
   "outputs": [
    {
     "name": "stderr",
     "output_type": "stream",
     "text": [
      "100%|██████████| 9996/9996 [00:06<00:00, 1549.53it/s]\n"
     ]
    },
    {
     "name": "stdout",
     "output_type": "stream",
     "text": [
      "code1_tensor.shape=(9996, 464)\n"
     ]
    },
    {
     "name": "stderr",
     "output_type": "stream",
     "text": [
      "100%|██████████| 9996/9996 [00:06<00:00, 1567.38it/s]\n"
     ]
    },
    {
     "name": "stdout",
     "output_type": "stream",
     "text": [
      "code2_tensor.shape=(9996, 464)\n"
     ]
    }
   ],
   "source": [
    "data_ds = make_dataset(data_df['code1'],data_df['code2'],data_df['similar'])"
   ]
  },
  {
   "cell_type": "code",
   "execution_count": null,
   "metadata": {},
   "outputs": [
    {
     "name": "stdout",
     "output_type": "stream",
     "text": [
      "len(data_ds) = 9996\n",
      "type(code) = <class 'dict'>\n",
      "code.keys() = dict_keys(['code1', 'code2'])\n",
      "code['code1'].shape = TensorShape([464])\n",
      "similar = {'outputs': <tf.Tensor: shape=(), dtype=int64, numpy=0>}\n"
     ]
    }
   ],
   "source": [
    "print(f\"{len(data_ds) = }\")\n",
    "for code, similar in data_ds.take(1):\n",
    "    print(f\"{type(code) = }\")\n",
    "    print(f\"{code.keys() = }\")\n",
    "    print(f\"{code['code1'].shape = }\")\n",
    "    print(f\"{similar = }\")"
   ]
  },
  {
   "cell_type": "markdown",
   "metadata": {},
   "source": [
    "# 데이터셋 나누기"
   ]
  },
  {
   "cell_type": "code",
   "execution_count": null,
   "metadata": {},
   "outputs": [
    {
     "data": {
      "text/plain": [
       "9996"
      ]
     },
     "execution_count": 24,
     "metadata": {},
     "output_type": "execute_result"
    }
   ],
   "source": [
    "len(data_ds)"
   ]
  },
  {
   "cell_type": "code",
   "execution_count": null,
   "metadata": {},
   "outputs": [],
   "source": [
    "num_train_ds = int(len(data_ds)*0.8)\n",
    "\n",
    "train_ds = data_ds.take(num_train_ds)\n",
    "val_ds = data_ds.skip(num_train_ds)"
   ]
  },
  {
   "cell_type": "code",
   "execution_count": null,
   "metadata": {},
   "outputs": [
    {
     "name": "stdout",
     "output_type": "stream",
     "text": [
      "len(train_ds)=7996\n",
      "len(val_ds)=2000\n"
     ]
    }
   ],
   "source": [
    "print(f\"{len(train_ds)=}\")\n",
    "print(f\"{len(val_ds)=}\")"
   ]
  },
  {
   "cell_type": "markdown",
   "metadata": {},
   "source": [
    "# 모델만들기"
   ]
  },
  {
   "cell_type": "code",
   "execution_count": null,
   "metadata": {},
   "outputs": [],
   "source": [
    "from tensorflow.keras.layers import Layer\n",
    "from tensorflow.keras import Model"
   ]
  },
  {
   "cell_type": "markdown",
   "metadata": {},
   "source": [
    "## 포지셔널 인코딩(Positional Encoding)"
   ]
  },
  {
   "cell_type": "code",
   "execution_count": null,
   "metadata": {},
   "outputs": [],
   "source": [
    "def get_angles(pos, i, d_model):\n",
    "    angle_rates = 1 / np.power(10000, (2 * (i//2)) / np.float32(d_model))\n",
    "    return pos * angle_rates\n",
    "\n",
    "def positional_encoding(position, d_model):\n",
    "    angle_rads = get_angles(np.arange(position)[:, np.newaxis],\n",
    "                          np.arange(d_model)[np.newaxis, :],\n",
    "                          d_model)\n",
    "\n",
    "    # apply sin to even indices in the array; 2i\n",
    "    angle_rads[:, 0::2] = np.sin(angle_rads[:, 0::2])\n",
    "\n",
    "    # apply cos to odd indices in the array; 2i+1\n",
    "    angle_rads[:, 1::2] = np.cos(angle_rads[:, 1::2])\n",
    "\n",
    "    pos_encoding = angle_rads[np.newaxis, ...]\n",
    "\n",
    "    return tf.cast(pos_encoding, dtype=tf.float32)"
   ]
  },
  {
   "cell_type": "markdown",
   "metadata": {},
   "source": [
    "## 마스킹(making)\n",
    "- 패딩을 계산하지 않게 해줌."
   ]
  },
  {
   "cell_type": "code",
   "execution_count": null,
   "metadata": {},
   "outputs": [],
   "source": [
    "def create_padding_mask(seq):\n",
    "    seq = tf.cast(tf.math.equal(seq, 0), tf.float32)\n",
    "\n",
    "    # add extra dimensions to add the padding\n",
    "    # to the attention logits.\n",
    "    return seq[:, tf.newaxis, tf.newaxis, :]  # (batch_size, 1, 1, seq_len)"
   ]
  },
  {
   "cell_type": "markdown",
   "metadata": {},
   "source": [
    "## 스케일드 닷-프로덕트 어텐션(Scaled dot-product Attention)"
   ]
  },
  {
   "cell_type": "code",
   "execution_count": null,
   "metadata": {},
   "outputs": [],
   "source": [
    "def scaled_dot_product_attention(q, k, v, mask):\n",
    "  \"\"\"Calculate the attention weights.\n",
    "  q, k, v must have matching leading dimensions.\n",
    "  k, v must have matching penultimate dimension, i.e.: seq_len_k = seq_len_v.\n",
    "  The mask has different shapes depending on its type(padding or look ahead)\n",
    "  but it must be broadcastable for addition.\n",
    "\n",
    "  Args:\n",
    "    q: query shape == (..., seq_len_q, depth)\n",
    "    k: key shape == (..., seq_len_k, depth)\n",
    "    v: value shape == (..., seq_len_v, depth_v)\n",
    "    mask: Float tensor with shape broadcastable\n",
    "          to (..., seq_len_q, seq_len_k). Defaults to None.\n",
    "\n",
    "  Returns:\n",
    "    output, attention_weights\n",
    "  \"\"\"\n",
    "\n",
    "  matmul_qk = tf.matmul(q, k, transpose_b=True)  # (..., seq_len_q, seq_len_k)\n",
    "\n",
    "  # scale matmul_qk\n",
    "  dk = tf.cast(tf.shape(k)[-1], tf.float32)\n",
    "  scaled_attention_logits = matmul_qk / tf.math.sqrt(dk)\n",
    "\n",
    "  # add the mask to the scaled tensor.\n",
    "  if mask is not None:\n",
    "    scaled_attention_logits += (mask * -1e9)\n",
    "\n",
    "  # softmax is normalized on the last axis (seq_len_k) so that the scores\n",
    "  # add up to 1.\n",
    "  attention_weights = tf.nn.softmax(scaled_attention_logits, axis=-1)  # (..., seq_len_q, seq_len_k)\n",
    "\n",
    "  output = tf.matmul(attention_weights, v)  # (..., seq_len_q, depth_v)\n",
    "\n",
    "  return output, attention_weights"
   ]
  },
  {
   "cell_type": "code",
   "execution_count": null,
   "metadata": {},
   "outputs": [],
   "source": [
    "def point_wise_feed_forward_network(d_model, dff):\n",
    "    return tf.keras.Sequential([\n",
    "        tf.keras.layers.Dense(dff, activation='relu'),  # (batch_size, seq_len, dff)\n",
    "        tf.keras.layers.Dense(d_model)  # (batch_size, seq_len, d_model)\n",
    "    ])"
   ]
  },
  {
   "cell_type": "code",
   "execution_count": null,
   "metadata": {},
   "outputs": [],
   "source": [
    "\n",
    "class MultiHeadAttention(Model):\n",
    "    def __init__(self, d_model, num_heads):\n",
    "        super(MultiHeadAttention, self).__init__()\n",
    "        self.num_heads = num_heads\n",
    "        self.d_model = d_model\n",
    "\n",
    "        assert d_model % self.num_heads == 0\n",
    "\n",
    "        self.depth = d_model // self.num_heads\n",
    "\n",
    "        self.wq = tf.keras.layers.Dense(d_model)\n",
    "        self.wk = tf.keras.layers.Dense(d_model)\n",
    "        self.wv = tf.keras.layers.Dense(d_model)\n",
    "\n",
    "        self.dense = tf.keras.layers.Dense(d_model)\n",
    "\n",
    "    def split_heads(self, x, batch_size):\n",
    "        \"\"\"Split the last dimension into (num_heads, depth).\n",
    "        Transpose the result such that the shape is (batch_size, num_heads, seq_len, depth)\n",
    "        \"\"\"\n",
    "        x = tf.reshape(x, (batch_size, -1, self.num_heads, self.depth))\n",
    "        return tf.transpose(x, perm=[0, 2, 1, 3])\n",
    "\n",
    "    def call(self, v, k, q, mask):\n",
    "        batch_size = tf.shape(q)[0]\n",
    "\n",
    "        q = self.wq(q)  # (batch_size, seq_len, d_model)\n",
    "        k = self.wk(k)  # (batch_size, seq_len, d_model)\n",
    "        v = self.wv(v)  # (batch_size, seq_len, d_model)\n",
    "\n",
    "        q = self.split_heads(q, batch_size)  # (batch_size, num_heads, seq_len_q, depth)\n",
    "        k = self.split_heads(k, batch_size)  # (batch_size, num_heads, seq_len_k, depth)\n",
    "        v = self.split_heads(v, batch_size)  # (batch_size, num_heads, seq_len_v, depth)\n",
    "\n",
    "        # scaled_attention.shape == (batch_size, num_heads, seq_len_q, depth)\n",
    "        # attention_weights.shape == (batch_size, num_heads, seq_len_q, seq_len_k)\n",
    "        scaled_attention, attention_weights = scaled_dot_product_attention(\n",
    "            q, k, v, mask)\n",
    "\n",
    "        scaled_attention = tf.transpose(scaled_attention, perm=[0, 2, 1, 3])  # (batch_size, seq_len_q, num_heads, depth)\n",
    "\n",
    "        concat_attention = tf.reshape(scaled_attention,\n",
    "                                    (batch_size, -1, self.d_model))  # (batch_size, seq_len_q, d_model)\n",
    "\n",
    "        output = self.dense(concat_attention)  # (batch_size, seq_len_q, d_model)\n",
    "\n",
    "        return output, attention_weights\n",
    "\n",
    "class EncoderLayer(Model):\n",
    "    def __init__(self, d_model, num_heads, dff, rate=0.1):\n",
    "        super(EncoderLayer, self).__init__()\n",
    "\n",
    "        self.mha = MultiHeadAttention(d_model, num_heads)\n",
    "        self.ffn = point_wise_feed_forward_network(d_model, dff)\n",
    "\n",
    "        self.layernorm1 = tf.keras.layers.LayerNormalization(epsilon=1e-6)\n",
    "        self.layernorm2 = tf.keras.layers.LayerNormalization(epsilon=1e-6)\n",
    "\n",
    "        self.dropout1 = tf.keras.layers.Dropout(rate)\n",
    "        self.dropout2 = tf.keras.layers.Dropout(rate)\n",
    "\n",
    "    def call(self, x, mask):\n",
    "\n",
    "        attn_output, _ = self.mha(x, x, x, mask)  # (batch_size, input_seq_len, d_model)\n",
    "        attn_output = self.dropout1(attn_output)\n",
    "        out1 = self.layernorm1(x + attn_output)  # (batch_size, input_seq_len, d_model)\n",
    "\n",
    "        ffn_output = self.ffn(out1)  # (batch_size, input_seq_len, d_model)\n",
    "        ffn_output = self.dropout2(ffn_output)\n",
    "        out2 = self.layernorm2(out1 + ffn_output)  # (batch_size, input_seq_len, d_model)\n",
    "\n",
    "        return out2\n",
    "    \n",
    "def Encoder(num_layers, d_model, num_heads, dff, input_vocab_size, maximum_position_encoding, rate=0.1):\n",
    "    \n",
    "    input_x = tf.keras.layers.Input(shape=(None, ), name='inputs')\n",
    "    mask = tf.keras.layers.Input(shape=(1, 1, None), name=\"padding_mask\")\n",
    "    \n",
    "    seq_len = tf.shape(input_x)[1]\n",
    "\n",
    "    # adding embedding and position encoding.\n",
    "    x = tf.keras.layers.Embedding(input_vocab_size, d_model)(input_x)  # (batch_size, input_seq_len, d_model)\n",
    "    x *= tf.math.sqrt(tf.cast(d_model, tf.float32))\n",
    "    x += positional_encoding(maximum_position_encoding, d_model)[:, :seq_len, :]\n",
    "\n",
    "    x = tf.keras.layers.Dropout(rate)(x)\n",
    "\n",
    "    for _ in range(num_layers):\n",
    "        output = EncoderLayer(d_model, num_heads, dff, rate)(x, mask)\n",
    "\n",
    "    return tf.keras.Model(inputs=[input_x, mask],\n",
    "                          outputs=output, name=\"encoder\")\n",
    "    \n",
    "def make_model(num_layers, d_model, num_heads, dff, input_vocab_size, maximum_position_encoding, rate=0.1):\n",
    "\n",
    "    encoder = Encoder(num_layers, d_model, num_heads, dff, input_vocab_size, maximum_position_encoding)\n",
    "\n",
    "    input1 = tf.keras.Input(shape=(None,), name=\"code1\")\n",
    "    input2 = tf.keras.Input(shape=(None,), name=\"code2\")\n",
    "\n",
    "    code1_enc_padding_mask = keras.layers.Lambda(\n",
    "        create_padding_mask, output_shape=(1,1,None),\n",
    "        name = 'cod1_enc_padding_mask'\n",
    "    )(input1)\n",
    "    code1 = encoder({'inputs':input1,'padding_mask': code1_enc_padding_mask})\n",
    "    # code1.shape = (batch_size, inp_seq_len, d_model)\n",
    "    code2_enc_padding_mask = keras.layers.Lambda(\n",
    "        create_padding_mask, output_shape=(1,1,None),\n",
    "        name = 'code2_enc_padding_mask'\n",
    "    )(input2)\n",
    "    code2 = encoder({'inputs':input2,'padding_mask': code2_enc_padding_mask})\n",
    "    # code2.shape = (batch_size, inp_seq_len, d_model)\n",
    "\n",
    "    outputs = tf.matmul(code1,code2,transpose_a=True)\n",
    "    outputs = tf.keras.layers.GlobalAveragePooling1D()(outputs)\n",
    "    outputs = tf.keras.layers.Dropout(rate)(outputs)\n",
    "    outputs = tf.keras.layers.Dense(1, activation=\"sigmoid\", name=\"outputs\")(outputs)\n",
    "\n",
    "    return tf.keras.Model(inputs=[input1,input2],\n",
    "                        outputs=outputs)\n"
   ]
  },
  {
   "cell_type": "code",
   "execution_count": null,
   "metadata": {},
   "outputs": [
    {
     "name": "stdout",
     "output_type": "stream",
     "text": [
      "Model: \"encoder\"\n",
      "__________________________________________________________________________________________________\n",
      " Layer (type)                   Output Shape         Param #     Connected to                     \n",
      "==================================================================================================\n",
      " inputs (InputLayer)            [(None, None)]       0           []                               \n",
      "                                                                                                  \n",
      " tf.compat.v1.shape (TFOpLambda  (2,)                0           ['inputs[0][0]']                 \n",
      " )                                                                                                \n",
      "                                                                                                  \n",
      " tf.__operators__.getitem (Slic  ()                  0           ['tf.compat.v1.shape[0][0]']     \n",
      " ingOpLambda)                                                                                     \n",
      "                                                                                                  \n",
      " embedding (Embedding)          (None, None, 128)    1280000     ['inputs[0][0]']                 \n",
      "                                                                                                  \n",
      " tf.stack (TFOpLambda)          (3,)                 0           ['tf.__operators__.getitem[0][0]'\n",
      "                                                                 ]                                \n",
      "                                                                                                  \n",
      " tf.math.multiply (TFOpLambda)  (None, None, 128)    0           ['embedding[0][0]']              \n",
      "                                                                                                  \n",
      " tf.strided_slice (TFOpLambda)  (1, None, 128)       0           ['tf.stack[0][0]']               \n",
      "                                                                                                  \n",
      " tf.__operators__.add (TFOpLamb  (None, None, 128)   0           ['tf.math.multiply[0][0]',       \n",
      " da)                                                              'tf.strided_slice[0][0]']       \n",
      "                                                                                                  \n",
      " dropout (Dropout)              (None, None, 128)    0           ['tf.__operators__.add[0][0]']   \n",
      "                                                                                                  \n",
      " padding_mask (InputLayer)      [(None, 1, 1, None)  0           []                               \n",
      "                                ]                                                                 \n",
      "                                                                                                  \n",
      " encoder_layer_1 (EncoderLayer)  (None, None, 128)   198272      ['dropout[0][0]',                \n",
      "                                                                  'padding_mask[0][0]']           \n",
      "                                                                                                  \n",
      "==================================================================================================\n",
      "Total params: 1,478,272\n",
      "Trainable params: 1,478,272\n",
      "Non-trainable params: 0\n",
      "__________________________________________________________________________________________________\n"
     ]
    }
   ],
   "source": [
    "model = Encoder(\n",
    "    cfg.num_layers,\n",
    "    cfg.d_model,\n",
    "    cfg.num_heads,\n",
    "    cfg.dff,\n",
    "    cfg.vocab_size,\n",
    "    cfg.max_len,\n",
    ")\n",
    "model.summary()"
   ]
  },
  {
   "cell_type": "code",
   "execution_count": null,
   "metadata": {},
   "outputs": [],
   "source": [
    "def configure_for_performance(ds):\n",
    "    ds = ds.shuffle(buffer_size=1000)\n",
    "    ds = ds.batch(BATCH_SIZE)\n",
    "    ds = ds.repeat()\n",
    "    ds = ds.prefetch(buffer_size=AUTOTUNE)\n",
    "    return ds"
   ]
  },
  {
   "cell_type": "code",
   "execution_count": null,
   "metadata": {},
   "outputs": [
    {
     "data": {
      "image/png": "[encoded data removed]",
      "text/plain": [
       "<IPython.core.display.Image object>"
      ]
     },
     "execution_count": 35,
     "metadata": {},
     "output_type": "execute_result"
    }
   ],
   "source": [
    "# make_model(num_layers, d_model, num_heads, dff, input_vocab_size, maximum_position_encoding, rate=0.1):\n",
    "model = make_model(\n",
    "  cfg.num_layers,\n",
    "  cfg.d_model,\n",
    "  cfg.num_heads,\n",
    "  cfg.dff,\n",
    "  cfg.vocab_size,\n",
    "  cfg.max_len,\n",
    ")\n",
    "\n",
    "tf.keras.utils.plot_model(\n",
    "    model, show_shapes=True\n",
    ")"
   ]
  },
  {
   "cell_type": "code",
   "execution_count": null,
   "metadata": {},
   "outputs": [
    {
     "name": "stdout",
     "output_type": "stream",
     "text": [
      "Model: \"model\"\n",
      "__________________________________________________________________________________________________\n",
      " Layer (type)                   Output Shape         Param #     Connected to                     \n",
      "==================================================================================================\n",
      " code1 (InputLayer)             [(None, None)]       0           []                               \n",
      "                                                                                                  \n",
      " code2 (InputLayer)             [(None, None)]       0           []                               \n",
      "                                                                                                  \n",
      " cod1_enc_padding_mask (Lambda)  (None, 1, 1, None)  0           ['code1[0][0]']                  \n",
      "                                                                                                  \n",
      " code2_enc_padding_mask (Lambda  (None, 1, 1, None)  0           ['code2[0][0]']                  \n",
      " )                                                                                                \n",
      "                                                                                                  \n",
      " encoder (Functional)           (None, None, 128)    1478272     ['code1[0][0]',                  \n",
      "                                                                  'cod1_enc_padding_mask[0][0]',  \n",
      "                                                                  'code2[0][0]',                  \n",
      "                                                                  'code2_enc_padding_mask[0][0]'] \n",
      "                                                                                                  \n",
      " tf.linalg.matmul (TFOpLambda)  (None, 128, 128)     0           ['encoder[0][0]',                \n",
      "                                                                  'encoder[1][0]']                \n",
      "                                                                                                  \n",
      " global_average_pooling1d (Glob  (None, 128)         0           ['tf.linalg.matmul[0][0]']       \n",
      " alAveragePooling1D)                                                                              \n",
      "                                                                                                  \n",
      " dropout_10 (Dropout)           (None, 128)          0           ['global_average_pooling1d[0][0]'\n",
      "                                                                 ]                                \n",
      "                                                                                                  \n",
      " outputs (Dense)                (None, 1)            129         ['dropout_10[0][0]']             \n",
      "                                                                                                  \n",
      "==================================================================================================\n",
      "Total params: 1,478,401\n",
      "Trainable params: 1,478,401\n",
      "Non-trainable params: 0\n",
      "__________________________________________________________________________________________________\n"
     ]
    }
   ],
   "source": [
    "model.summary()"
   ]
  },
  {
   "cell_type": "code",
   "execution_count": null,
   "metadata": {},
   "outputs": [],
   "source": [
    "model.compile(loss='binary_crossentropy',\n",
    "                  optimizer='adam',\n",
    "                  metrics='accuracy',\n",
    "                  )"
   ]
  },
  {
   "cell_type": "markdown",
   "metadata": {},
   "source": [
    "# 모델 훈련"
   ]
  },
  {
   "cell_type": "code",
   "execution_count": null,
   "metadata": {},
   "outputs": [
    {
     "name": "stdout",
     "output_type": "stream",
     "text": [
      "Epoch 1/1000\n",
      "249/249 [==============================] - ETA: 0s - loss: 0.6251 - accuracy: 0.6573\n",
      "Epoch 1: val_loss improved from inf to 0.57325, saving model to ./model\\001-0.5733\n",
      "INFO:tensorflow:Assets written to: ./model\\001-0.5733\\assets\n"
     ]
    },
    {
     "name": "stderr",
     "output_type": "stream",
     "text": [
      "WARNING:absl:<__main__.MultiHeadAttention object at 0x000001DC3D7A80D0> has the same name 'MultiHeadAttention' as a built-in Keras object. Consider renaming <class '__main__.MultiHeadAttention'> to avoid naming conflicts when loading with `tf.keras.models.load_model`. If renaming is not possible, pass the object in the `custom_objects` parameter of the load function.\n"
     ]
    },
    {
     "name": "stdout",
     "output_type": "stream",
     "text": [
      "249/249 [==============================] - 60s 238ms/step - loss: 0.6251 - accuracy: 0.6573 - val_loss: 0.5733 - val_accuracy: 0.7082\n",
      "Epoch 2/1000\n",
      "249/249 [==============================] - ETA: 0s - loss: 0.5537 - accuracy: 0.7200\n",
      "Epoch 2: val_loss improved from 0.57325 to 0.56779, saving model to ./model\\002-0.5678\n",
      "INFO:tensorflow:Assets written to: ./model\\002-0.5678\\assets\n"
     ]
    },
    {
     "name": "stderr",
     "output_type": "stream",
     "text": [
      "INFO:tensorflow:Assets written to: ./model\\002-0.5678\\assets\n",
      "WARNING:absl:<__main__.MultiHeadAttention object at 0x000001DC3D7A80D0> has the same name 'MultiHeadAttention' as a built-in Keras object. Consider renaming <class '__main__.MultiHeadAttention'> to avoid naming conflicts when loading with `tf.keras.models.load_model`. If renaming is not possible, pass the object in the `custom_objects` parameter of the load function.\n"
     ]
    },
    {
     "name": "stdout",
     "output_type": "stream",
     "text": [
      "249/249 [==============================] - 59s 235ms/step - loss: 0.5537 - accuracy: 0.7200 - val_loss: 0.5678 - val_accuracy: 0.7399\n",
      "Epoch 3/1000\n",
      "249/249 [==============================] - ETA: 0s - loss: 0.4166 - accuracy: 0.8163\n",
      "Epoch 3: val_loss improved from 0.56779 to 0.50103, saving model to ./model\\003-0.5010\n",
      "INFO:tensorflow:Assets written to: ./model\\003-0.5010\\assets\n"
     ]
    },
    {
     "name": "stderr",
     "output_type": "stream",
     "text": [
      "INFO:tensorflow:Assets written to: ./model\\003-0.5010\\assets\n",
      "WARNING:absl:<__main__.MultiHeadAttention object at 0x000001DC3D7A80D0> has the same name 'MultiHeadAttention' as a built-in Keras object. Consider renaming <class '__main__.MultiHeadAttention'> to avoid naming conflicts when loading with `tf.keras.models.load_model`. If renaming is not possible, pass the object in the `custom_objects` parameter of the load function.\n"
     ]
    },
    {
     "name": "stdout",
     "output_type": "stream",
     "text": [
      "249/249 [==============================] - 58s 234ms/step - loss: 0.4166 - accuracy: 0.8163 - val_loss: 0.5010 - val_accuracy: 0.7550\n",
      "Epoch 4/1000\n",
      "249/249 [==============================] - ETA: 0s - loss: 0.3034 - accuracy: 0.8723\n",
      "Epoch 4: val_loss did not improve from 0.50103\n",
      "249/249 [==============================] - 48s 193ms/step - loss: 0.3034 - accuracy: 0.8723 - val_loss: 0.5885 - val_accuracy: 0.7863\n",
      "Epoch 5/1000\n",
      "249/249 [==============================] - ETA: 0s - loss: 0.2099 - accuracy: 0.9183\n",
      "Epoch 5: val_loss did not improve from 0.50103\n",
      "249/249 [==============================] - 48s 193ms/step - loss: 0.2099 - accuracy: 0.9183 - val_loss: 0.7393 - val_accuracy: 0.8024\n",
      "Epoch 6/1000\n",
      "249/249 [==============================] - ETA: 0s - loss: 0.1509 - accuracy: 0.9431\n",
      "Epoch 6: val_loss did not improve from 0.50103\n",
      "249/249 [==============================] - 49s 196ms/step - loss: 0.1509 - accuracy: 0.9431 - val_loss: 0.7119 - val_accuracy: 0.7979\n",
      "Epoch 7/1000\n",
      "249/249 [==============================] - ETA: 0s - loss: 0.1078 - accuracy: 0.9612\n",
      "Epoch 7: val_loss did not improve from 0.50103\n",
      "249/249 [==============================] - 49s 197ms/step - loss: 0.1078 - accuracy: 0.9612 - val_loss: 0.9179 - val_accuracy: 0.7903\n",
      "Epoch 8/1000\n",
      "249/249 [==============================] - ETA: 0s - loss: 0.0874 - accuracy: 0.9669\n",
      "Epoch 8: val_loss did not improve from 0.50103\n",
      "249/249 [==============================] - 49s 195ms/step - loss: 0.0874 - accuracy: 0.9669 - val_loss: 0.8895 - val_accuracy: 0.7863\n",
      "Epoch 9/1000\n",
      "249/249 [==============================] - ETA: 0s - loss: 0.0720 - accuracy: 0.9738\n",
      "Epoch 9: val_loss did not improve from 0.50103\n",
      "249/249 [==============================] - 49s 196ms/step - loss: 0.0720 - accuracy: 0.9738 - val_loss: 1.1045 - val_accuracy: 0.7903\n",
      "Epoch 10/1000\n",
      "249/249 [==============================] - ETA: 0s - loss: 0.0646 - accuracy: 0.9759\n",
      "Epoch 10: val_loss did not improve from 0.50103\n",
      "249/249 [==============================] - 49s 196ms/step - loss: 0.0646 - accuracy: 0.9759 - val_loss: 1.0203 - val_accuracy: 0.7888\n",
      "Epoch 11/1000\n",
      "249/249 [==============================] - ETA: 0s - loss: 0.0553 - accuracy: 0.9794\n",
      "Epoch 11: val_loss did not improve from 0.50103\n",
      "249/249 [==============================] - 49s 195ms/step - loss: 0.0553 - accuracy: 0.9794 - val_loss: 1.3293 - val_accuracy: 0.7707\n",
      "Epoch 12/1000\n",
      "249/249 [==============================] - ETA: 0s - loss: 0.0598 - accuracy: 0.9795\n",
      "Epoch 12: val_loss did not improve from 0.50103\n",
      "249/249 [==============================] - 48s 194ms/step - loss: 0.0598 - accuracy: 0.9795 - val_loss: 1.3149 - val_accuracy: 0.7586\n",
      "Epoch 13/1000\n",
      "249/249 [==============================] - ETA: 0s - loss: 0.0413 - accuracy: 0.9854\n",
      "Epoch 13: val_loss did not improve from 0.50103\n",
      "249/249 [==============================] - 48s 195ms/step - loss: 0.0413 - accuracy: 0.9854 - val_loss: 1.4491 - val_accuracy: 0.7898\n",
      "Epoch 14/1000\n",
      "249/249 [==============================] - ETA: 0s - loss: 0.0334 - accuracy: 0.9874\n",
      "Epoch 14: val_loss did not improve from 0.50103\n",
      "249/249 [==============================] - 49s 195ms/step - loss: 0.0334 - accuracy: 0.9874 - val_loss: 1.4575 - val_accuracy: 0.7666\n",
      "Epoch 15/1000\n",
      "249/249 [==============================] - ETA: 0s - loss: 0.0390 - accuracy: 0.9849\n",
      "Epoch 15: val_loss did not improve from 0.50103\n",
      "249/249 [==============================] - 49s 196ms/step - loss: 0.0390 - accuracy: 0.9849 - val_loss: 1.7648 - val_accuracy: 0.7505\n",
      "Epoch 16/1000\n",
      "249/249 [==============================] - ETA: 0s - loss: 0.0415 - accuracy: 0.9838\n",
      "Epoch 16: val_loss did not improve from 0.50103\n",
      "249/249 [==============================] - 49s 195ms/step - loss: 0.0415 - accuracy: 0.9838 - val_loss: 1.5884 - val_accuracy: 0.7893\n",
      "Epoch 17/1000\n",
      "249/249 [==============================] - ETA: 0s - loss: 0.0340 - accuracy: 0.9884\n",
      "Epoch 17: val_loss did not improve from 0.50103\n",
      "249/249 [==============================] - 49s 195ms/step - loss: 0.0340 - accuracy: 0.9884 - val_loss: 1.6362 - val_accuracy: 0.7762\n",
      "Epoch 18/1000\n",
      "249/249 [==============================] - ETA: 0s - loss: 0.0340 - accuracy: 0.9878\n",
      "Epoch 18: val_loss did not improve from 0.50103\n",
      "249/249 [==============================] - 49s 196ms/step - loss: 0.0340 - accuracy: 0.9878 - val_loss: 1.7718 - val_accuracy: 0.7419\n",
      "Epoch 19/1000\n",
      "249/249 [==============================] - ETA: 0s - loss: 0.0362 - accuracy: 0.9863\n",
      "Epoch 19: val_loss did not improve from 0.50103\n",
      "249/249 [==============================] - 49s 196ms/step - loss: 0.0362 - accuracy: 0.9863 - val_loss: 1.9033 - val_accuracy: 0.7671\n",
      "Epoch 20/1000\n",
      "249/249 [==============================] - ETA: 0s - loss: 0.0225 - accuracy: 0.9918\n",
      "Epoch 20: val_loss did not improve from 0.50103\n",
      "249/249 [==============================] - 49s 195ms/step - loss: 0.0225 - accuracy: 0.9918 - val_loss: 1.7249 - val_accuracy: 0.7732\n",
      "Epoch 21/1000\n",
      "249/249 [==============================] - ETA: 0s - loss: 0.0225 - accuracy: 0.9936\n",
      "Epoch 21: val_loss did not improve from 0.50103\n",
      "249/249 [==============================] - 49s 196ms/step - loss: 0.0225 - accuracy: 0.9936 - val_loss: 1.9606 - val_accuracy: 0.7787\n",
      "Epoch 22/1000\n",
      "249/249 [==============================] - ETA: 0s - loss: 0.0263 - accuracy: 0.9916\n",
      "Epoch 22: val_loss did not improve from 0.50103\n",
      "249/249 [==============================] - 49s 197ms/step - loss: 0.0263 - accuracy: 0.9916 - val_loss: 1.9021 - val_accuracy: 0.7863\n",
      "Epoch 23/1000\n",
      "249/249 [==============================] - ETA: 0s - loss: 0.0345 - accuracy: 0.9896\n",
      "Epoch 23: val_loss did not improve from 0.50103\n",
      "249/249 [==============================] - 49s 197ms/step - loss: 0.0345 - accuracy: 0.9896 - val_loss: 1.5432 - val_accuracy: 0.7656\n",
      "Epoch 24/1000\n",
      "249/249 [==============================] - ETA: 0s - loss: 0.0311 - accuracy: 0.9887\n",
      "Epoch 24: val_loss did not improve from 0.50103\n",
      "249/249 [==============================] - 49s 197ms/step - loss: 0.0311 - accuracy: 0.9887 - val_loss: 1.8265 - val_accuracy: 0.7722\n",
      "Epoch 25/1000\n",
      "249/249 [==============================] - ETA: 0s - loss: 0.0403 - accuracy: 0.9862\n",
      "Epoch 25: val_loss did not improve from 0.50103\n",
      "249/249 [==============================] - 48s 195ms/step - loss: 0.0403 - accuracy: 0.9862 - val_loss: 1.7988 - val_accuracy: 0.7762\n",
      "Epoch 26/1000\n",
      "249/249 [==============================] - ETA: 0s - loss: 0.0245 - accuracy: 0.9917\n",
      "Epoch 26: val_loss did not improve from 0.50103\n",
      "249/249 [==============================] - 49s 197ms/step - loss: 0.0245 - accuracy: 0.9917 - val_loss: 1.7891 - val_accuracy: 0.7666\n",
      "Epoch 27/1000\n",
      "249/249 [==============================] - ETA: 0s - loss: 0.0151 - accuracy: 0.9952\n",
      "Epoch 27: val_loss did not improve from 0.50103\n",
      "249/249 [==============================] - 49s 196ms/step - loss: 0.0151 - accuracy: 0.9952 - val_loss: 2.2562 - val_accuracy: 0.7596\n",
      "Epoch 28/1000\n",
      "249/249 [==============================] - ETA: 0s - loss: 0.0265 - accuracy: 0.9920\n",
      "Epoch 28: val_loss did not improve from 0.50103\n",
      "249/249 [==============================] - 49s 196ms/step - loss: 0.0265 - accuracy: 0.9920 - val_loss: 1.7858 - val_accuracy: 0.7591\n",
      "Epoch 29/1000\n",
      "249/249 [==============================] - ETA: 0s - loss: 0.0263 - accuracy: 0.9917\n",
      "Epoch 29: val_loss did not improve from 0.50103\n",
      "249/249 [==============================] - 49s 195ms/step - loss: 0.0263 - accuracy: 0.9917 - val_loss: 1.9511 - val_accuracy: 0.7394\n",
      "Epoch 30/1000\n",
      "249/249 [==============================] - ETA: 0s - loss: 0.0361 - accuracy: 0.9874\n",
      "Epoch 30: val_loss did not improve from 0.50103\n",
      "249/249 [==============================] - 48s 194ms/step - loss: 0.0361 - accuracy: 0.9874 - val_loss: 1.8265 - val_accuracy: 0.7792\n",
      "Epoch 31/1000\n",
      "249/249 [==============================] - ETA: 0s - loss: 0.0206 - accuracy: 0.9931\n",
      "Epoch 31: val_loss did not improve from 0.50103\n",
      "249/249 [==============================] - 49s 197ms/step - loss: 0.0206 - accuracy: 0.9931 - val_loss: 1.8631 - val_accuracy: 0.7782\n",
      "Epoch 32/1000\n",
      "249/249 [==============================] - ETA: 0s - loss: 0.0219 - accuracy: 0.9923\n",
      "Epoch 32: val_loss did not improve from 0.50103\n",
      "249/249 [==============================] - 49s 196ms/step - loss: 0.0219 - accuracy: 0.9923 - val_loss: 1.9331 - val_accuracy: 0.7717\n",
      "Epoch 33/1000\n",
      "249/249 [==============================] - ETA: 0s - loss: 0.0277 - accuracy: 0.9893\n",
      "Epoch 33: val_loss did not improve from 0.50103\n",
      "249/249 [==============================] - 48s 194ms/step - loss: 0.0277 - accuracy: 0.9893 - val_loss: 1.7318 - val_accuracy: 0.7913\n",
      "Epoch 34/1000\n",
      "249/249 [==============================] - ETA: 0s - loss: 0.0170 - accuracy: 0.9935\n",
      "Epoch 34: val_loss did not improve from 0.50103\n",
      "249/249 [==============================] - 49s 195ms/step - loss: 0.0170 - accuracy: 0.9935 - val_loss: 2.3018 - val_accuracy: 0.7898\n",
      "Epoch 35/1000\n",
      "249/249 [==============================] - ETA: 0s - loss: 0.0188 - accuracy: 0.9936\n",
      "Epoch 35: val_loss did not improve from 0.50103\n",
      "249/249 [==============================] - 49s 196ms/step - loss: 0.0188 - accuracy: 0.9936 - val_loss: 2.1378 - val_accuracy: 0.7873\n",
      "Epoch 36/1000\n",
      "249/249 [==============================] - ETA: 0s - loss: 0.0205 - accuracy: 0.9921\n",
      "Epoch 36: val_loss did not improve from 0.50103\n",
      "249/249 [==============================] - 49s 195ms/step - loss: 0.0205 - accuracy: 0.9921 - val_loss: 2.0714 - val_accuracy: 0.7596\n",
      "Epoch 37/1000\n",
      "249/249 [==============================] - ETA: 0s - loss: 0.0201 - accuracy: 0.9927\n",
      "Epoch 37: val_loss did not improve from 0.50103\n",
      "249/249 [==============================] - 49s 195ms/step - loss: 0.0201 - accuracy: 0.9927 - val_loss: 2.0417 - val_accuracy: 0.7923\n",
      "Epoch 38/1000\n",
      "249/249 [==============================] - ETA: 0s - loss: 0.0254 - accuracy: 0.9916\n",
      "Epoch 38: val_loss did not improve from 0.50103\n",
      "249/249 [==============================] - 49s 196ms/step - loss: 0.0254 - accuracy: 0.9916 - val_loss: 2.0471 - val_accuracy: 0.7893\n",
      "Epoch 39/1000\n",
      "249/249 [==============================] - ETA: 0s - loss: 0.0163 - accuracy: 0.9942\n",
      "Epoch 39: val_loss did not improve from 0.50103\n",
      "249/249 [==============================] - 49s 196ms/step - loss: 0.0163 - accuracy: 0.9942 - val_loss: 2.1436 - val_accuracy: 0.7525\n",
      "Epoch 40/1000\n",
      "249/249 [==============================] - ETA: 0s - loss: 0.0188 - accuracy: 0.9927\n",
      "Epoch 40: val_loss did not improve from 0.50103\n",
      "249/249 [==============================] - 49s 197ms/step - loss: 0.0188 - accuracy: 0.9927 - val_loss: 2.1548 - val_accuracy: 0.7908\n",
      "Epoch 41/1000\n",
      "249/249 [==============================] - ETA: 0s - loss: 0.0162 - accuracy: 0.9952\n",
      "Epoch 41: val_loss did not improve from 0.50103\n",
      "249/249 [==============================] - 49s 196ms/step - loss: 0.0162 - accuracy: 0.9952 - val_loss: 2.0045 - val_accuracy: 0.7853\n",
      "Epoch 42/1000\n",
      "249/249 [==============================] - ETA: 0s - loss: 0.0076 - accuracy: 0.9974\n",
      "Epoch 42: val_loss did not improve from 0.50103\n",
      "249/249 [==============================] - 49s 196ms/step - loss: 0.0076 - accuracy: 0.9974 - val_loss: 2.7080 - val_accuracy: 0.7802\n",
      "Epoch 43/1000\n",
      "249/249 [==============================] - ETA: 0s - loss: 0.0303 - accuracy: 0.9905\n",
      "Epoch 43: val_loss did not improve from 0.50103\n",
      "249/249 [==============================] - 49s 198ms/step - loss: 0.0303 - accuracy: 0.9905 - val_loss: 2.2665 - val_accuracy: 0.7833\n",
      "Epoch 44/1000\n",
      "249/249 [==============================] - ETA: 0s - loss: 0.0211 - accuracy: 0.9918\n",
      "Epoch 44: val_loss did not improve from 0.50103\n",
      "249/249 [==============================] - 49s 198ms/step - loss: 0.0211 - accuracy: 0.9918 - val_loss: 2.0253 - val_accuracy: 0.7747\n",
      "Epoch 45/1000\n",
      "249/249 [==============================] - ETA: 0s - loss: 0.0191 - accuracy: 0.9928\n",
      "Epoch 45: val_loss did not improve from 0.50103\n",
      "249/249 [==============================] - 49s 195ms/step - loss: 0.0191 - accuracy: 0.9928 - val_loss: 2.0581 - val_accuracy: 0.7702\n",
      "Epoch 46/1000\n",
      "249/249 [==============================] - ETA: 0s - loss: 0.0117 - accuracy: 0.9957\n",
      "Epoch 46: val_loss did not improve from 0.50103\n",
      "249/249 [==============================] - 49s 197ms/step - loss: 0.0117 - accuracy: 0.9957 - val_loss: 2.2900 - val_accuracy: 0.7732\n",
      "Epoch 47/1000\n",
      "249/249 [==============================] - ETA: 0s - loss: 0.0145 - accuracy: 0.9954\n",
      "Epoch 47: val_loss did not improve from 0.50103\n",
      "249/249 [==============================] - 49s 196ms/step - loss: 0.0145 - accuracy: 0.9954 - val_loss: 2.5724 - val_accuracy: 0.7606\n",
      "Epoch 48/1000\n",
      "249/249 [==============================] - ETA: 0s - loss: 0.0182 - accuracy: 0.9938\n",
      "Epoch 48: val_loss did not improve from 0.50103\n",
      "249/249 [==============================] - 49s 198ms/step - loss: 0.0182 - accuracy: 0.9938 - val_loss: 2.3946 - val_accuracy: 0.7591\n",
      "Epoch 49/1000\n",
      "249/249 [==============================] - ETA: 0s - loss: 0.0177 - accuracy: 0.9941\n",
      "Epoch 49: val_loss did not improve from 0.50103\n",
      "249/249 [==============================] - 50s 199ms/step - loss: 0.0177 - accuracy: 0.9941 - val_loss: 2.5235 - val_accuracy: 0.7656\n",
      "Epoch 50/1000\n",
      "249/249 [==============================] - ETA: 0s - loss: 0.0127 - accuracy: 0.9955\n",
      "Epoch 50: val_loss did not improve from 0.50103\n",
      "249/249 [==============================] - 49s 196ms/step - loss: 0.0127 - accuracy: 0.9955 - val_loss: 2.6471 - val_accuracy: 0.7666\n",
      "Epoch 51/1000\n",
      "249/249 [==============================] - ETA: 0s - loss: 0.0147 - accuracy: 0.9957\n",
      "Epoch 51: val_loss did not improve from 0.50103\n",
      "249/249 [==============================] - 49s 195ms/step - loss: 0.0147 - accuracy: 0.9957 - val_loss: 2.2393 - val_accuracy: 0.7787\n",
      "Epoch 52/1000\n",
      "249/249 [==============================] - ETA: 0s - loss: 0.0142 - accuracy: 0.9952\n",
      "Epoch 52: val_loss did not improve from 0.50103\n",
      "249/249 [==============================] - 49s 195ms/step - loss: 0.0142 - accuracy: 0.9952 - val_loss: 2.6035 - val_accuracy: 0.7692\n",
      "Epoch 53/1000\n",
      "249/249 [==============================] - ETA: 0s - loss: 0.0125 - accuracy: 0.9964\n",
      "Epoch 53: val_loss did not improve from 0.50103\n",
      "249/249 [==============================] - 49s 196ms/step - loss: 0.0125 - accuracy: 0.9964 - val_loss: 2.7688 - val_accuracy: 0.7329\n"
     ]
    }
   ],
   "source": [
    "train_step = len(train_ds)//BATCH_SIZE\n",
    "val_step = len(val_ds)//BATCH_SIZE\n",
    "\n",
    "# early stop point\n",
    "early_stop_point = keras.callbacks.EarlyStopping(patience=50)\n",
    "\n",
    "# 모델 테스트\n",
    "filepath = \"./model/{epoch:03d}-{val_loss:.4f}\"\n",
    "check_point = keras.callbacks.ModelCheckpoint(\n",
    "filepath=filepath,\n",
    "save_best_only = True,\n",
    "verbose = True\n",
    ")\n",
    "\n",
    "hist = model.fit(\n",
    "    configure_for_performance(train_ds), epochs=1000,\n",
    "    steps_per_epoch=train_step,\n",
    "    validation_data=configure_for_performance(val_ds),\n",
    "    validation_steps=val_step,\n",
    "    callbacks=[check_point, early_stop_point],\n",
    "    verbose=1,\n",
    ")"
   ]
  },
  {
   "cell_type": "code",
   "execution_count": null,
   "metadata": {},
   "outputs": [
    {
     "data": {
      "image/png": "[encoded data removed]",
      "text/plain": [
       "<Figure size 432x288 with 1 Axes>"
      ]
     },
     "metadata": {
      "needs_background": "light"
     },
     "output_type": "display_data"
    }
   ],
   "source": [
    "plt.plot(hist.history['loss'],c='b',label='train loss')\n",
    "plt.plot(hist.history['val_loss'],c='b',label='validation loss')\n",
    "plt.legend()\n",
    "plt.show()"
   ]
  },
  {
   "cell_type": "code",
   "execution_count": null,
   "metadata": {},
   "outputs": [
    {
     "name": "stdout",
     "output_type": "stream",
     "text": [
      "003-0.5010\n"
     ]
    },
    {
     "data": {
      "text/plain": [
       "<keras.engine.functional.Functional at 0x1dc3f0e9d90>"
      ]
     },
     "execution_count": 48,
     "metadata": {},
     "output_type": "execute_result"
    }
   ],
   "source": [
    "del model\n",
    "models = os.listdir('./model/')\n",
    "print(models[-1])\n",
    "model = keras.models.load_model('./model/'+models[-1])"
   ]
  },
  {
   "cell_type": "code",
   "execution_count": null,
   "metadata": {},
   "outputs": [
    {
     "name": "stdout",
     "output_type": "stream",
     "text": [
      "63/63 [==============================] - 134s 771ms/step - loss: 0.4992 - accuracy: 0.7555\n"
     ]
    },
    {
     "data": {
      "text/plain": [
       "[0.4992027282714844, 0.7555000185966492]"
      ]
     },
     "execution_count": 51,
     "metadata": {},
     "output_type": "execute_result"
    }
   ],
   "source": [
    "model.evaluate(val_ds.batch(BATCH_SIZE))"
   ]
  }
 ],
 "metadata": {
  "interpreter": {
   "hash": "d102a36440b3fa6f6e9070927b3490df4f74782c023ea09ceab8356b50f0a087"
  },
  "kernelspec": {
   "display_name": "Python 3.9.7 ('base')",
   "language": "python",
   "name": "python3"
  },
  "language_info": {
   "codemirror_mode": {
    "name": "ipython",
    "version": 3
   },
   "file_extension": ".py",
   "mimetype": "text/x-python",
   "name": "python",
   "nbconvert_exporter": "python",
   "pygments_lexer": "ipython3",
   "version": "3.9.7"
  },
  "orig_nbformat": 4
 },
 "nbformat": 4,
 "nbformat_minor": 2
}
