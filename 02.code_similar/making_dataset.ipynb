{
 "cells": [
  {
   "cell_type": "code",
   "execution_count": 21,
   "metadata": {},
   "outputs": [],
   "source": [
    "import os\n",
    "from pathlib import Path\n",
    "\n",
    "import pandas as pd\n",
    "import numpy as np\n",
    "\n",
    "from tqdm import tqdm"
   ]
  },
  {
   "cell_type": "code",
   "execution_count": 22,
   "metadata": {},
   "outputs": [
    {
     "name": "stderr",
     "output_type": "stream",
     "text": [
      "100%|██████████| 300/300 [00:00<00:00, 315.45it/s]\n"
     ]
    }
   ],
   "source": [
    "data_path = './dataset/code/'\n",
    "labels = os.listdir(data_path)\n",
    "source_list = []\n",
    "for label in tqdm(labels):\n",
    "    for source in os.listdir(data_path+label):\n",
    "        source_path = data_path+label+'/'+source\n",
    "        source_list.append(source_path)"
   ]
  },
  {
   "cell_type": "code",
   "execution_count": 23,
   "metadata": {},
   "outputs": [
    {
     "data": {
      "text/plain": [
       "['./dataset/code/problem001/problem001_1.py',\n",
       " './dataset/code/problem001/problem001_10.py',\n",
       " './dataset/code/problem001/problem001_100.py',\n",
       " './dataset/code/problem001/problem001_101.py',\n",
       " './dataset/code/problem001/problem001_102.py']"
      ]
     },
     "execution_count": 23,
     "metadata": {},
     "output_type": "execute_result"
    }
   ],
   "source": [
    "source_list[:5]"
   ]
  },
  {
   "cell_type": "code",
   "execution_count": 24,
   "metadata": {},
   "outputs": [
    {
     "data": {
      "text/plain": [
       "45101"
      ]
     },
     "execution_count": 24,
     "metadata": {},
     "output_type": "execute_result"
    }
   ],
   "source": [
    "len(source_list)"
   ]
  },
  {
   "cell_type": "code",
   "execution_count": 25,
   "metadata": {},
   "outputs": [
    {
     "name": "stdout",
     "output_type": "stream",
     "text": [
      "<class 'numpy.ndarray'>\n",
      "['./dataset/code/problem245/problem245_144.py'\n",
      " './dataset/code/problem033/problem033_97.py']\n"
     ]
    }
   ],
   "source": [
    "sample = np.random.choice(source_list,2)\n",
    "print(type(sample))\n",
    "print(sample)"
   ]
  },
  {
   "cell_type": "code",
   "execution_count": 34,
   "metadata": {},
   "outputs": [
    {
     "name": "stdout",
     "output_type": "stream",
     "text": [
      "['.', 'dataset', 'code', 'problem015', 'problem015_106.py']\n",
      "./dataset/code/problem015\n",
      "['problem001', 'problem002', 'problem003', 'problem004', 'problem005']\n"
     ]
    }
   ],
   "source": [
    "code = sample[0].split('/')\n",
    "print(code)\n",
    "print('/'.join(code[:-1]))\n",
    "print(labels[:5])"
   ]
  },
  {
   "cell_type": "code",
   "execution_count": 28,
   "metadata": {},
   "outputs": [
    {
     "name": "stderr",
     "output_type": "stream",
     "text": [
      "100%|██████████| 1000/1000 [00:43<00:00, 23.18it/s]\n"
     ]
    }
   ],
   "source": [
    "num_sample = 1000\n",
    "data_dict = {\"code1\":[], \"code2\":[], \"similar\":[]}\n",
    "\n",
    "for _ in tqdm(range(num_sample)):\n",
    "    sample = np.random.choice(source_list,2)\n",
    "    code1 = sample[0].split('/')\n",
    "    code2 = sample[1].split('/')\n",
    "    \n",
    "    if code1[-2] == code2[-2]: similar = 1\n",
    "    else: similar = 0\n",
    "    \n",
    "    data_dict['code1'].append(sample[0])\n",
    "    data_dict['code2'].append(sample[1])\n",
    "    data_dict['similar'].append(similar)"
   ]
  },
  {
   "cell_type": "code",
   "execution_count": 29,
   "metadata": {},
   "outputs": [
    {
     "data": {
      "text/plain": [
       "0    998\n",
       "1      2\n",
       "Name: similar, dtype: int64"
      ]
     },
     "execution_count": 29,
     "metadata": {},
     "output_type": "execute_result"
    }
   ],
   "source": [
    "df = pd.DataFrame(data_dict)\n",
    "df['similar'].value_counts()"
   ]
  },
  {
   "cell_type": "code",
   "execution_count": 31,
   "metadata": {},
   "outputs": [
    {
     "data": {
      "text/html": [
       "<div>\n",
       "<style scoped>\n",
       "    .dataframe tbody tr th:only-of-type {\n",
       "        vertical-align: middle;\n",
       "    }\n",
       "\n",
       "    .dataframe tbody tr th {\n",
       "        vertical-align: top;\n",
       "    }\n",
       "\n",
       "    .dataframe thead th {\n",
       "        text-align: right;\n",
       "    }\n",
       "</style>\n",
       "<table border=\"1\" class=\"dataframe\">\n",
       "  <thead>\n",
       "    <tr style=\"text-align: right;\">\n",
       "      <th></th>\n",
       "      <th>code1</th>\n",
       "      <th>code2</th>\n",
       "      <th>similar</th>\n",
       "    </tr>\n",
       "  </thead>\n",
       "  <tbody>\n",
       "    <tr>\n",
       "      <th>0</th>\n",
       "      <td>./dataset/code/problem144/problem144_147.py</td>\n",
       "      <td>./dataset/code/problem264/problem264_78.py</td>\n",
       "      <td>0</td>\n",
       "    </tr>\n",
       "    <tr>\n",
       "      <th>1</th>\n",
       "      <td>./dataset/code/problem133/problem133_75.py</td>\n",
       "      <td>./dataset/code/problem187/problem187_38.py</td>\n",
       "      <td>0</td>\n",
       "    </tr>\n",
       "    <tr>\n",
       "      <th>2</th>\n",
       "      <td>./dataset/code/problem268/problem268_111.py</td>\n",
       "      <td>./dataset/code/problem052/problem052_35.py</td>\n",
       "      <td>0</td>\n",
       "    </tr>\n",
       "    <tr>\n",
       "      <th>3</th>\n",
       "      <td>./dataset/code/problem103/problem103_36.py</td>\n",
       "      <td>./dataset/code/problem182/problem182_151.py</td>\n",
       "      <td>0</td>\n",
       "    </tr>\n",
       "    <tr>\n",
       "      <th>4</th>\n",
       "      <td>./dataset/code/problem169/problem169_10.py</td>\n",
       "      <td>./dataset/code/problem183/problem183_2.py</td>\n",
       "      <td>0</td>\n",
       "    </tr>\n",
       "  </tbody>\n",
       "</table>\n",
       "</div>"
      ],
      "text/plain": [
       "                                         code1  \\\n",
       "0  ./dataset/code/problem144/problem144_147.py   \n",
       "1   ./dataset/code/problem133/problem133_75.py   \n",
       "2  ./dataset/code/problem268/problem268_111.py   \n",
       "3   ./dataset/code/problem103/problem103_36.py   \n",
       "4   ./dataset/code/problem169/problem169_10.py   \n",
       "\n",
       "                                         code2  similar  \n",
       "0   ./dataset/code/problem264/problem264_78.py        0  \n",
       "1   ./dataset/code/problem187/problem187_38.py        0  \n",
       "2   ./dataset/code/problem052/problem052_35.py        0  \n",
       "3  ./dataset/code/problem182/problem182_151.py        0  \n",
       "4    ./dataset/code/problem183/problem183_2.py        0  "
      ]
     },
     "execution_count": 31,
     "metadata": {},
     "output_type": "execute_result"
    }
   ],
   "source": [
    "df.head()"
   ]
  }
 ],
 "metadata": {
  "interpreter": {
   "hash": "d102a36440b3fa6f6e9070927b3490df4f74782c023ea09ceab8356b50f0a087"
  },
  "kernelspec": {
   "display_name": "Python 3.9.7 ('base')",
   "language": "python",
   "name": "python3"
  },
  "language_info": {
   "codemirror_mode": {
    "name": "ipython",
    "version": 3
   },
   "file_extension": ".py",
   "mimetype": "text/x-python",
   "name": "python",
   "nbconvert_exporter": "python",
   "pygments_lexer": "ipython3",
   "version": "3.9.7"
  },
  "orig_nbformat": 4
 },
 "nbformat": 4,
 "nbformat_minor": 2
}
