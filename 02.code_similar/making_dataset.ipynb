{
 "cells": [
  {
   "cell_type": "code",
   "execution_count": 2,
   "metadata": {},
   "outputs": [],
   "source": [
    "import os\n",
    "from pathlib import Path\n",
    "\n",
    "import pandas as pd\n",
    "import numpy as np\n",
    "\n",
    "from tqdm import tqdm\n",
    "\n",
    "from itertools import product"
   ]
  },
  {
   "cell_type": "code",
   "execution_count": 3,
   "metadata": {},
   "outputs": [],
   "source": [
    "data_path = './dataset/code'\n",
    "labels = os.listdir(data_path)"
   ]
  },
  {
   "cell_type": "code",
   "execution_count": 4,
   "metadata": {},
   "outputs": [],
   "source": [
    "# 용량 초과....\n",
    "\n",
    "# with open('data_df.csv','w',encoding='utf8') as f:\n",
    "#     f.write('code1,code2,similar')\n",
    "#     for label1, label2 in tqdm(product(labels, repeat=2),total=len(labels)**2):\n",
    "#         for code1_src, code2_src in product(os.listdir(data_path+label1),os.listdir(data_path+label2)):\n",
    "#             if not code1_src==code2_src:\n",
    "#                 code1 = (data_path+label1+'/'+code1_src)\n",
    "#                 code2 = (data_path+label2+'/'+code2_src)\n",
    "#                 if label1==label2:\n",
    "#                     similar = 1\n",
    "#                 else:\n",
    "#                     similar = 0\n",
    "#             f.write(\"{},{},{}\".format(code1,code2,similar))"
   ]
  },
  {
   "cell_type": "code",
   "execution_count": 5,
   "metadata": {},
   "outputs": [
    {
     "name": "stderr",
     "output_type": "stream",
     "text": [
      "100%|██████████| 10000/10000 [00:48<00:00, 205.17it/s]\n"
     ]
    }
   ],
   "source": [
    "import config\n",
    "num_sample = config.num_sample\n",
    "data_dict = {\"code1\":[], \"code2\":[], \"similar\":[]}\n",
    "\n",
    "for i in tqdm(range(num_sample)):\n",
    "    if i % 2 ==0:\n",
    "        sample = np.random.choice(labels,2,replace=False).tolist()\n",
    "        code1_src = np.random.choice(os.listdir('/'.join([data_path,sample[0]])))\n",
    "        code2_src = np.random.choice(os.listdir('/'.join([data_path,sample[1]])))\n",
    "        similar = 0\n",
    "        # print(sample)\n",
    "        code1_path = '/'.join([data_path,sample[0],code1_src])\n",
    "        code2_path = '/'.join([data_path,sample[1],code2_src])\n",
    "        # print(code1_path)\n",
    "    else:\n",
    "        label = (np.random.choice(labels))\n",
    "        code_src = np.random.choice(os.listdir('/'.join([data_path,label])),2,replace=False).tolist()\n",
    "        similar = 1\n",
    "        \n",
    "        code1_path = '/'.join([data_path,label,code_src[0]])\n",
    "        code2_path = '/'.join([data_path,label,code_src[1]])\n",
    "        \n",
    "    data_dict['code1'].append(code1_path)\n",
    "    data_dict['code2'].append(code2_path)\n",
    "    data_dict['similar'].append(similar)"
   ]
  },
  {
   "cell_type": "code",
   "execution_count": 45,
   "metadata": {},
   "outputs": [
    {
     "data": {
      "text/plain": [
       "0    5000\n",
       "1    5000\n",
       "Name: similar, dtype: int64"
      ]
     },
     "execution_count": 45,
     "metadata": {},
     "output_type": "execute_result"
    }
   ],
   "source": [
    "df = pd.DataFrame(data_dict)\n",
    "df['similar'].value_counts()"
   ]
  },
  {
   "cell_type": "code",
   "execution_count": 46,
   "metadata": {},
   "outputs": [
    {
     "data": {
      "text/html": [
       "<div>\n",
       "<style scoped>\n",
       "    .dataframe tbody tr th:only-of-type {\n",
       "        vertical-align: middle;\n",
       "    }\n",
       "\n",
       "    .dataframe tbody tr th {\n",
       "        vertical-align: top;\n",
       "    }\n",
       "\n",
       "    .dataframe thead th {\n",
       "        text-align: right;\n",
       "    }\n",
       "</style>\n",
       "<table border=\"1\" class=\"dataframe\">\n",
       "  <thead>\n",
       "    <tr style=\"text-align: right;\">\n",
       "      <th></th>\n",
       "      <th>code1</th>\n",
       "      <th>code2</th>\n",
       "      <th>similar</th>\n",
       "    </tr>\n",
       "  </thead>\n",
       "  <tbody>\n",
       "    <tr>\n",
       "      <th>0</th>\n",
       "      <td>./dataset/code/problem028/problem028_112.py</td>\n",
       "      <td>./dataset/code/problem085/problem085_1.py</td>\n",
       "      <td>0</td>\n",
       "    </tr>\n",
       "    <tr>\n",
       "      <th>1</th>\n",
       "      <td>./dataset/code/problem246/problem246_49.py</td>\n",
       "      <td>./dataset/code/problem246/problem246_125.py</td>\n",
       "      <td>1</td>\n",
       "    </tr>\n",
       "    <tr>\n",
       "      <th>2</th>\n",
       "      <td>./dataset/code/problem097/problem097_90.py</td>\n",
       "      <td>./dataset/code/problem204/problem204_26.py</td>\n",
       "      <td>0</td>\n",
       "    </tr>\n",
       "    <tr>\n",
       "      <th>3</th>\n",
       "      <td>./dataset/code/problem071/problem071_13.py</td>\n",
       "      <td>./dataset/code/problem071/problem071_94.py</td>\n",
       "      <td>1</td>\n",
       "    </tr>\n",
       "    <tr>\n",
       "      <th>4</th>\n",
       "      <td>./dataset/code/problem281/problem281_139.py</td>\n",
       "      <td>./dataset/code/problem300/problem300_109.py</td>\n",
       "      <td>0</td>\n",
       "    </tr>\n",
       "  </tbody>\n",
       "</table>\n",
       "</div>"
      ],
      "text/plain": [
       "                                         code1  \\\n",
       "0  ./dataset/code/problem028/problem028_112.py   \n",
       "1   ./dataset/code/problem246/problem246_49.py   \n",
       "2   ./dataset/code/problem097/problem097_90.py   \n",
       "3   ./dataset/code/problem071/problem071_13.py   \n",
       "4  ./dataset/code/problem281/problem281_139.py   \n",
       "\n",
       "                                         code2  similar  \n",
       "0    ./dataset/code/problem085/problem085_1.py        0  \n",
       "1  ./dataset/code/problem246/problem246_125.py        1  \n",
       "2   ./dataset/code/problem204/problem204_26.py        0  \n",
       "3   ./dataset/code/problem071/problem071_94.py        1  \n",
       "4  ./dataset/code/problem300/problem300_109.py        0  "
      ]
     },
     "execution_count": 46,
     "metadata": {},
     "output_type": "execute_result"
    }
   ],
   "source": [
    "df.head()"
   ]
  },
  {
   "cell_type": "code",
   "execution_count": 47,
   "metadata": {},
   "outputs": [
    {
     "name": "stdout",
     "output_type": "stream",
     "text": [
      "<class 'pandas.core.frame.DataFrame'>\n",
      "RangeIndex: 10000 entries, 0 to 9999\n",
      "Data columns (total 3 columns):\n",
      " #   Column   Non-Null Count  Dtype \n",
      "---  ------   --------------  ----- \n",
      " 0   code1    10000 non-null  object\n",
      " 1   code2    10000 non-null  object\n",
      " 2   similar  10000 non-null  int64 \n",
      "dtypes: int64(1), object(2)\n",
      "memory usage: 234.5+ KB\n"
     ]
    }
   ],
   "source": [
    "df.info()"
   ]
  },
  {
   "cell_type": "code",
   "execution_count": 48,
   "metadata": {},
   "outputs": [
    {
     "name": "stdout",
     "output_type": "stream",
     "text": [
      "<class 'pandas.core.frame.DataFrame'>\n",
      "Int64Index: 9996 entries, 0 to 9999\n",
      "Data columns (total 3 columns):\n",
      " #   Column   Non-Null Count  Dtype \n",
      "---  ------   --------------  ----- \n",
      " 0   code1    9996 non-null   object\n",
      " 1   code2    9996 non-null   object\n",
      " 2   similar  9996 non-null   int64 \n",
      "dtypes: int64(1), object(2)\n",
      "memory usage: 312.4+ KB\n"
     ]
    }
   ],
   "source": [
    "df.drop_duplicates(inplace=True)\n",
    "df.info()"
   ]
  },
  {
   "cell_type": "code",
   "execution_count": 50,
   "metadata": {},
   "outputs": [
    {
     "data": {
      "text/plain": [
       "0    5000\n",
       "1    4996\n",
       "Name: similar, dtype: int64"
      ]
     },
     "execution_count": 50,
     "metadata": {},
     "output_type": "execute_result"
    }
   ],
   "source": [
    "df.similar.value_counts()"
   ]
  },
  {
   "cell_type": "code",
   "execution_count": 54,
   "metadata": {},
   "outputs": [],
   "source": [
    "df.to_csv('./dataset/data_df.csv',index=False)"
   ]
  },
  {
   "cell_type": "code",
   "execution_count": null,
   "metadata": {},
   "outputs": [],
   "source": []
  }
 ],
 "metadata": {
  "interpreter": {
   "hash": "d102a36440b3fa6f6e9070927b3490df4f74782c023ea09ceab8356b50f0a087"
  },
  "kernelspec": {
   "display_name": "Python 3.9.7 ('base')",
   "language": "python",
   "name": "python3"
  },
  "language_info": {
   "codemirror_mode": {
    "name": "ipython",
    "version": 3
   },
   "file_extension": ".py",
   "mimetype": "text/x-python",
   "name": "python",
   "nbconvert_exporter": "python",
   "pygments_lexer": "ipython3",
   "version": "3.9.7"
  },
  "orig_nbformat": 4
 },
 "nbformat": 4,
 "nbformat_minor": 2
}
